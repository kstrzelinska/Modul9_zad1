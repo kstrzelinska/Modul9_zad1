{
 "cells": [
  {
   "cell_type": "code",
   "execution_count": 2,
   "id": "743d5ec0-f64b-4f9b-b8b1-76ac789c0dc7",
   "metadata": {},
   "outputs": [],
   "source": [
    "import pandas as pd"
   ]
  },
  {
   "cell_type": "code",
   "execution_count": 3,
   "id": "4fb94a5b-2bc3-4862-8228-ad3605506a14",
   "metadata": {},
   "outputs": [],
   "source": [
    "df_baza_filmow = pd.read_csv('tmdb_movies.csv')\n",
    "df_baza_gatunkow = pd.read_csv('tmdb_genres.csv')"
   ]
  },
  {
   "cell_type": "code",
   "execution_count": 5,
   "id": "4eeb8dd0-8b10-4a06-9fd8-7c2131e5e00b",
   "metadata": {},
   "outputs": [
    {
     "data": {
      "text/html": [
       "<div>\n",
       "<style scoped>\n",
       "    .dataframe tbody tr th:only-of-type {\n",
       "        vertical-align: middle;\n",
       "    }\n",
       "\n",
       "    .dataframe tbody tr th {\n",
       "        vertical-align: top;\n",
       "    }\n",
       "\n",
       "    .dataframe thead th {\n",
       "        text-align: right;\n",
       "    }\n",
       "</style>\n",
       "<table border=\"1\" class=\"dataframe\">\n",
       "  <thead>\n",
       "    <tr style=\"text-align: right;\">\n",
       "      <th></th>\n",
       "      <th>Unnamed: 0</th>\n",
       "      <th>budget</th>\n",
       "      <th>homepage</th>\n",
       "      <th>id</th>\n",
       "      <th>original_language</th>\n",
       "      <th>original_title</th>\n",
       "      <th>overview</th>\n",
       "      <th>popularity</th>\n",
       "      <th>release_date</th>\n",
       "      <th>revenue</th>\n",
       "      <th>runtime</th>\n",
       "      <th>status</th>\n",
       "      <th>tagline</th>\n",
       "      <th>title</th>\n",
       "      <th>vote_average</th>\n",
       "      <th>vote_count</th>\n",
       "      <th>genre_id</th>\n",
       "    </tr>\n",
       "  </thead>\n",
       "  <tbody>\n",
       "    <tr>\n",
       "      <th>0</th>\n",
       "      <td>0</td>\n",
       "      <td>237000000</td>\n",
       "      <td>http://www.avatarmovie.com/</td>\n",
       "      <td>19995</td>\n",
       "      <td>en</td>\n",
       "      <td>Avatar</td>\n",
       "      <td>In the 22nd century, a paraplegic Marine is di...</td>\n",
       "      <td>150.437577</td>\n",
       "      <td>2009-12-10</td>\n",
       "      <td>2787965087</td>\n",
       "      <td>162.0</td>\n",
       "      <td>Released</td>\n",
       "      <td>Enter the World of Pandora.</td>\n",
       "      <td>Avatar</td>\n",
       "      <td>7.2</td>\n",
       "      <td>11800</td>\n",
       "      <td>28.0</td>\n",
       "    </tr>\n",
       "  </tbody>\n",
       "</table>\n",
       "</div>"
      ],
      "text/plain": [
       "   Unnamed: 0     budget                     homepage     id  \\\n",
       "0           0  237000000  http://www.avatarmovie.com/  19995   \n",
       "\n",
       "  original_language original_title  \\\n",
       "0                en         Avatar   \n",
       "\n",
       "                                            overview  popularity release_date  \\\n",
       "0  In the 22nd century, a paraplegic Marine is di...  150.437577   2009-12-10   \n",
       "\n",
       "      revenue  runtime    status                      tagline   title  \\\n",
       "0  2787965087    162.0  Released  Enter the World of Pandora.  Avatar   \n",
       "\n",
       "   vote_average  vote_count  genre_id  \n",
       "0           7.2       11800      28.0  "
      ]
     },
     "execution_count": 5,
     "metadata": {},
     "output_type": "execute_result"
    }
   ],
   "source": [
    "df_baza_filmow.head(1)"
   ]
  },
  {
   "cell_type": "markdown",
   "id": "7d0b4d47-d674-4da4-bfa3-20ee58f8bc0e",
   "metadata": {},
   "source": [
    "### Zad 1"
   ]
  },
  {
   "cell_type": "code",
   "execution_count": 16,
   "id": "909252d7-311e-41f0-95fb-1da120455ff0",
   "metadata": {},
   "outputs": [
    {
     "data": {
      "text/html": [
       "<div>\n",
       "<style scoped>\n",
       "    .dataframe tbody tr th:only-of-type {\n",
       "        vertical-align: middle;\n",
       "    }\n",
       "\n",
       "    .dataframe tbody tr th {\n",
       "        vertical-align: top;\n",
       "    }\n",
       "\n",
       "    .dataframe thead th {\n",
       "        text-align: right;\n",
       "    }\n",
       "</style>\n",
       "<table border=\"1\" class=\"dataframe\">\n",
       "  <thead>\n",
       "    <tr style=\"text-align: right;\">\n",
       "      <th></th>\n",
       "      <th>title</th>\n",
       "      <th>vote_average</th>\n",
       "      <th>vote_count</th>\n",
       "    </tr>\n",
       "  </thead>\n",
       "  <tbody>\n",
       "    <tr>\n",
       "      <th>0</th>\n",
       "      <td>The Shawshank Redemption</td>\n",
       "      <td>8.5</td>\n",
       "      <td>8205</td>\n",
       "    </tr>\n",
       "    <tr>\n",
       "      <th>1</th>\n",
       "      <td>The Godfather</td>\n",
       "      <td>8.4</td>\n",
       "      <td>5893</td>\n",
       "    </tr>\n",
       "    <tr>\n",
       "      <th>2</th>\n",
       "      <td>The Godfather: Part II</td>\n",
       "      <td>8.3</td>\n",
       "      <td>3338</td>\n",
       "    </tr>\n",
       "    <tr>\n",
       "      <th>3</th>\n",
       "      <td>Pulp Fiction</td>\n",
       "      <td>8.3</td>\n",
       "      <td>8428</td>\n",
       "    </tr>\n",
       "    <tr>\n",
       "      <th>4</th>\n",
       "      <td>Whiplash</td>\n",
       "      <td>8.3</td>\n",
       "      <td>4254</td>\n",
       "    </tr>\n",
       "    <tr>\n",
       "      <th>5</th>\n",
       "      <td>Schindler's List</td>\n",
       "      <td>8.3</td>\n",
       "      <td>4329</td>\n",
       "    </tr>\n",
       "    <tr>\n",
       "      <th>6</th>\n",
       "      <td>Fight Club</td>\n",
       "      <td>8.3</td>\n",
       "      <td>9413</td>\n",
       "    </tr>\n",
       "    <tr>\n",
       "      <th>7</th>\n",
       "      <td>Spirited Away</td>\n",
       "      <td>8.3</td>\n",
       "      <td>3840</td>\n",
       "    </tr>\n",
       "    <tr>\n",
       "      <th>8</th>\n",
       "      <td>Psycho</td>\n",
       "      <td>8.2</td>\n",
       "      <td>2320</td>\n",
       "    </tr>\n",
       "    <tr>\n",
       "      <th>9</th>\n",
       "      <td>One Flew Over the Cuckoo's Nest</td>\n",
       "      <td>8.2</td>\n",
       "      <td>2919</td>\n",
       "    </tr>\n",
       "  </tbody>\n",
       "</table>\n",
       "</div>"
      ],
      "text/plain": [
       "                             title  vote_average  vote_count\n",
       "0         The Shawshank Redemption           8.5        8205\n",
       "1                    The Godfather           8.4        5893\n",
       "2           The Godfather: Part II           8.3        3338\n",
       "3                     Pulp Fiction           8.3        8428\n",
       "4                         Whiplash           8.3        4254\n",
       "5                 Schindler's List           8.3        4329\n",
       "6                       Fight Club           8.3        9413\n",
       "7                    Spirited Away           8.3        3840\n",
       "8                           Psycho           8.2        2320\n",
       "9  One Flew Over the Cuckoo's Nest           8.2        2919"
      ]
     },
     "execution_count": 16,
     "metadata": {},
     "output_type": "execute_result"
    }
   ],
   "source": [
    "#zad1: Zwróć listę 10 najwyżej ocenianych filmów (vote_average), których liczba głosów (vote_count) jest większa od 3. kwartyla rozkładu liczby głosów\n",
    "trzeci_kwartyl = df_baza_filmow['vote_count'].quantile(0.75)\n",
    "powyzej_trzeciego_kwartyla = df_baza_filmow[df_baza_filmow['vote_count'] > trzeci_kwartyl]\n",
    "wynik = powyzej_trzeciego_kwartyla.sort_values(by='vote_average', ascending=False).head(10)\n",
    "wynik_titles = wynik[['title', 'vote_average', 'vote_count']]\n",
    "wynik_titles.reset_index(drop=True, inplace=True)\n",
    "wynik_titles"
   ]
  },
  {
   "cell_type": "markdown",
   "id": "5205cabf-d7df-495c-b7d2-72d267fa1086",
   "metadata": {},
   "source": [
    "### Zad 2"
   ]
  },
  {
   "cell_type": "code",
   "execution_count": 17,
   "id": "b9c414a1-db2e-4765-856a-a0188e14eb61",
   "metadata": {},
   "outputs": [],
   "source": [
    "#zad2: Pogrupuj tabelę w taki sposób, aby otrzymać średni przychód (revenue) oraz średni budżet (budget) w danym roku \n",
    "#dla filmów opublikowanych od 2010 (włącznie) do 2016 roku (włącznie). \n",
    "#Następnie na tej podstawie stwórz wykres, w którym średnie przychody są wykresem kolumnowym, a średni budżet wykresem liniowym na tych samych osiach. \n",
    "#Sformatuj odpowiednio oś X oraz oś Y. Dodaj tytuł wykresu, oraz legendę, która znajduje się w prawym górnym rogu płótna, lecz poza obszarem osi"
   ]
  },
  {
   "cell_type": "code",
   "execution_count": 21,
   "id": "252ff867-d4ae-475d-b30a-747398c1575c",
   "metadata": {},
   "outputs": [
    {
     "data": {
      "text/plain": [
       "dtype('O')"
      ]
     },
     "execution_count": 21,
     "metadata": {},
     "output_type": "execute_result"
    }
   ],
   "source": [
    "df_baza_filmow['release_date'].dtype #sprawdzenie typu danych => dt czy str"
   ]
  },
  {
   "cell_type": "code",
   "execution_count": 35,
   "id": "d49f1d9b-758a-4984-b1d2-bb36681a7f08",
   "metadata": {},
   "outputs": [
    {
     "data": {
      "text/plain": [
       "array(['2009', '2007', '2015', '2012', '2010', '2016', '2006', '2008',\n",
       "       '2013', '2011', '2014', '2005', '1997', '2004', '1999', '1995',\n",
       "       '2003', '2001', '2002', '1998', '2000', '1990', '1991', '1994',\n",
       "       '1996', '1982', '1993', '1979', '1992', '1989', '1984', '1988',\n",
       "       '1978', '1962', '1980', '1972', '1981', '1968', '1985', '1940',\n",
       "       '1963', '1987', '1986', '1973', '1983', '1976', '1977', '1970',\n",
       "       '1971', '1969', '1960', '1965', '1964', '1927', '1974', '1937',\n",
       "       '1975', '1967', '1951', '1961', '1946', '1953', '1954', '1959',\n",
       "       '1932', '1947', '1956', '1945', '1952', '1930', '1966', '1939',\n",
       "       '1950', '1948', '1958', '1957', '1944', '1938', '1949', '1936',\n",
       "       '2017', '1941', '1955', '1942', '1929', '1935', nan, '1933',\n",
       "       '1916', '1934', '1925'], dtype=object)"
      ]
     },
     "execution_count": 35,
     "metadata": {},
     "output_type": "execute_result"
    }
   ],
   "source": [
    "df_baza_filmow['year'] = df_baza_filmow['release_date'].str[:4]\n",
    "df_baza_filmow['year'].unique()"
   ]
  },
  {
   "cell_type": "code",
   "execution_count": 39,
   "id": "ce5a2773-afb8-4ec9-b262-8cd070de7e7e",
   "metadata": {
    "scrolled": true
   },
   "outputs": [
    {
     "name": "stdout",
     "output_type": "stream",
     "text": [
      "0.0\n"
     ]
    }
   ],
   "source": [
    "print(df_baza_filmow['release_date'].isnull().mean())"
   ]
  },
  {
   "cell_type": "code",
   "execution_count": 37,
   "id": "b7f49e94-82e5-4090-8217-6d2437a55123",
   "metadata": {},
   "outputs": [],
   "source": [
    "df_baza_filmow.dropna(subset=['year'], inplace=True)"
   ]
  },
  {
   "cell_type": "code",
   "execution_count": 40,
   "id": "cd11ea06-c39e-4dd9-915f-535aa91a1083",
   "metadata": {},
   "outputs": [
    {
     "data": {
      "text/html": [
       "<div>\n",
       "<style scoped>\n",
       "    .dataframe tbody tr th:only-of-type {\n",
       "        vertical-align: middle;\n",
       "    }\n",
       "\n",
       "    .dataframe tbody tr th {\n",
       "        vertical-align: top;\n",
       "    }\n",
       "\n",
       "    .dataframe thead th {\n",
       "        text-align: right;\n",
       "    }\n",
       "</style>\n",
       "<table border=\"1\" class=\"dataframe\">\n",
       "  <thead>\n",
       "    <tr style=\"text-align: right;\">\n",
       "      <th></th>\n",
       "      <th>Unnamed: 0</th>\n",
       "      <th>budget</th>\n",
       "      <th>homepage</th>\n",
       "      <th>id</th>\n",
       "      <th>original_language</th>\n",
       "      <th>original_title</th>\n",
       "      <th>overview</th>\n",
       "      <th>popularity</th>\n",
       "      <th>release_date</th>\n",
       "      <th>revenue</th>\n",
       "      <th>runtime</th>\n",
       "      <th>status</th>\n",
       "      <th>tagline</th>\n",
       "      <th>title</th>\n",
       "      <th>vote_average</th>\n",
       "      <th>vote_count</th>\n",
       "      <th>genre_id</th>\n",
       "      <th>year</th>\n",
       "    </tr>\n",
       "  </thead>\n",
       "  <tbody>\n",
       "    <tr>\n",
       "      <th>2</th>\n",
       "      <td>2</td>\n",
       "      <td>245000000</td>\n",
       "      <td>http://www.sonypictures.com/movies/spectre/</td>\n",
       "      <td>206647</td>\n",
       "      <td>en</td>\n",
       "      <td>Spectre</td>\n",
       "      <td>A cryptic message from Bond’s past sends him o...</td>\n",
       "      <td>107.376788</td>\n",
       "      <td>2015-10-26</td>\n",
       "      <td>880674609</td>\n",
       "      <td>148.0</td>\n",
       "      <td>Released</td>\n",
       "      <td>A Plan No One Escapes</td>\n",
       "      <td>Spectre</td>\n",
       "      <td>6.3</td>\n",
       "      <td>4466</td>\n",
       "      <td>28.0</td>\n",
       "      <td>2015</td>\n",
       "    </tr>\n",
       "  </tbody>\n",
       "</table>\n",
       "</div>"
      ],
      "text/plain": [
       "   Unnamed: 0     budget                                     homepage      id  \\\n",
       "2           2  245000000  http://www.sonypictures.com/movies/spectre/  206647   \n",
       "\n",
       "  original_language original_title  \\\n",
       "2                en        Spectre   \n",
       "\n",
       "                                            overview  popularity release_date  \\\n",
       "2  A cryptic message from Bond’s past sends him o...  107.376788   2015-10-26   \n",
       "\n",
       "     revenue  runtime    status                tagline    title  vote_average  \\\n",
       "2  880674609    148.0  Released  A Plan No One Escapes  Spectre           6.3   \n",
       "\n",
       "   vote_count  genre_id  year  \n",
       "2        4466      28.0  2015  "
      ]
     },
     "execution_count": 40,
     "metadata": {},
     "output_type": "execute_result"
    }
   ],
   "source": [
    "df_film_2010_2026 = df_baza_filmow[(df_baza_filmow['year'].astype(int) >= 2010) & (df_baza_filmow['year'].astype(int) <= 2016)]\n",
    "df_film_2010_2026.head(1)"
   ]
  },
  {
   "cell_type": "code",
   "execution_count": 42,
   "id": "a8b81cc6-1ce9-4c1b-85b1-d375812cb392",
   "metadata": {},
   "outputs": [],
   "source": [
    "import matplotlib.pyplot as plt"
   ]
  },
  {
   "cell_type": "code",
   "execution_count": 56,
   "id": "a35b7148-4a99-47d0-a1a7-d11f2a0a0d7c",
   "metadata": {},
   "outputs": [
    {
     "data": {
      "image/png": "[encoded data removed]",
      "text/plain": [
       "<Figure size 640x480 with 1 Axes>"
      ]
     },
     "metadata": {},
     "output_type": "display_data"
    }
   ],
   "source": [
    "revenues = df_film_2010_2026.groupby('year')['revenue'].mean()\n",
    "budgets = df_film_2010_2026.groupby('year')['budget'].mean()\n",
    "years = revenues.index # konieczne sortowanie\n",
    "\n",
    "# Tworzenie wykresu\n",
    "fig, axes = plt.subplots()\n",
    "axes.bar(years, revenues, color='blue', alpha=0.6, label='revenues')\n",
    "axes.plot(years, budgets, color='red', label='budget')\n",
    "\n",
    "# Dodanie tytułu\n",
    "axes.set_title('Średni przychód i budżet filmu w latach 2010-2016 roku')\n",
    "\n",
    "# Formatowanie osi y\n",
    "def million(x, pos):\n",
    "        return '{:2.1f}M'.format(x*1e-6)\n",
    "    \n",
    "formatter = plt.FuncFormatter(million)\n",
    "axes.yaxis.set_major_formatter(formatter)\n",
    "\n",
    "# Dodanie legendy w określonej pozycji\n",
    "axes.legend(loc=(1.05,0.85))\n",
    "\n",
    "plt.show()"
   ]
  },
  {
   "cell_type": "markdown",
   "id": "d190e294-3560-49f9-ba82-593d802449a4",
   "metadata": {},
   "source": [
    "### Zad 3"
   ]
  },
  {
   "cell_type": "code",
   "execution_count": null,
   "id": "0791d638-9d40-4a9f-a246-f16d4a940377",
   "metadata": {},
   "outputs": [],
   "source": [
    "#zad3: Baza filmów zawiera kolumnę z id gatunku (genre_id). \n",
    "#Na tej podstawie połącz ze sobą bazę filmów z bazą gatunków, tak aby w bazie filmów można było odczytać nazwę gatunku filmu."
   ]
  },
  {
   "cell_type": "code",
   "execution_count": 58,
   "id": "2ef30d01-3768-451e-9d46-ecad5f3031cb",
   "metadata": {},
   "outputs": [
    {
     "data": {
      "text/html": [
       "<div>\n",
       "<style scoped>\n",
       "    .dataframe tbody tr th:only-of-type {\n",
       "        vertical-align: middle;\n",
       "    }\n",
       "\n",
       "    .dataframe tbody tr th {\n",
       "        vertical-align: top;\n",
       "    }\n",
       "\n",
       "    .dataframe thead th {\n",
       "        text-align: right;\n",
       "    }\n",
       "</style>\n",
       "<table border=\"1\" class=\"dataframe\">\n",
       "  <thead>\n",
       "    <tr style=\"text-align: right;\">\n",
       "      <th></th>\n",
       "      <th>Unnamed: 0</th>\n",
       "      <th>genres</th>\n",
       "    </tr>\n",
       "  </thead>\n",
       "  <tbody>\n",
       "    <tr>\n",
       "      <th>0</th>\n",
       "      <td>28.0</td>\n",
       "      <td>Action</td>\n",
       "    </tr>\n",
       "  </tbody>\n",
       "</table>\n",
       "</div>"
      ],
      "text/plain": [
       "   Unnamed: 0  genres\n",
       "0        28.0  Action"
      ]
     },
     "execution_count": 58,
     "metadata": {},
     "output_type": "execute_result"
    }
   ],
   "source": [
    "df_baza_gatunkow.head(1)"
   ]
  },
  {
   "cell_type": "code",
   "execution_count": 62,
   "id": "0f6eac1d-a335-4276-9bf4-18ee54f4ff16",
   "metadata": {},
   "outputs": [],
   "source": [
    "df_baza_gatunkow = df_baza_gatunkow.rename(columns={'Unnamed: 0': 'genre_id'})"
   ]
  },
  {
   "cell_type": "code",
   "execution_count": 63,
   "id": "59360dcc-a7b2-4780-b2c1-4a63bd085270",
   "metadata": {},
   "outputs": [
    {
     "data": {
      "text/html": [
       "<div>\n",
       "<style scoped>\n",
       "    .dataframe tbody tr th:only-of-type {\n",
       "        vertical-align: middle;\n",
       "    }\n",
       "\n",
       "    .dataframe tbody tr th {\n",
       "        vertical-align: top;\n",
       "    }\n",
       "\n",
       "    .dataframe thead th {\n",
       "        text-align: right;\n",
       "    }\n",
       "</style>\n",
       "<table border=\"1\" class=\"dataframe\">\n",
       "  <thead>\n",
       "    <tr style=\"text-align: right;\">\n",
       "      <th></th>\n",
       "      <th>genre_id</th>\n",
       "      <th>genres</th>\n",
       "    </tr>\n",
       "  </thead>\n",
       "  <tbody>\n",
       "    <tr>\n",
       "      <th>0</th>\n",
       "      <td>28.0</td>\n",
       "      <td>Action</td>\n",
       "    </tr>\n",
       "  </tbody>\n",
       "</table>\n",
       "</div>"
      ],
      "text/plain": [
       "   genre_id  genres\n",
       "0      28.0  Action"
      ]
     },
     "execution_count": 63,
     "metadata": {},
     "output_type": "execute_result"
    }
   ],
   "source": [
    "df_baza_gatunkow.head(1)"
   ]
  },
  {
   "cell_type": "code",
   "execution_count": 70,
   "id": "b4d75186-01a6-4592-91f9-4764e563a2f7",
   "metadata": {},
   "outputs": [],
   "source": [
    "df_baza_filmow = pd.merge(df_baza_filmow,df_baza_gatunkow,how='left',on='genre_id')"
   ]
  },
  {
   "cell_type": "code",
   "execution_count": 71,
   "id": "e70786be-14cf-4333-bb18-67d6ed42e013",
   "metadata": {},
   "outputs": [
    {
     "data": {
      "text/html": [
       "<div>\n",
       "<style scoped>\n",
       "    .dataframe tbody tr th:only-of-type {\n",
       "        vertical-align: middle;\n",
       "    }\n",
       "\n",
       "    .dataframe tbody tr th {\n",
       "        vertical-align: top;\n",
       "    }\n",
       "\n",
       "    .dataframe thead th {\n",
       "        text-align: right;\n",
       "    }\n",
       "</style>\n",
       "<table border=\"1\" class=\"dataframe\">\n",
       "  <thead>\n",
       "    <tr style=\"text-align: right;\">\n",
       "      <th></th>\n",
       "      <th>Unnamed: 0</th>\n",
       "      <th>budget</th>\n",
       "      <th>homepage</th>\n",
       "      <th>id</th>\n",
       "      <th>original_language</th>\n",
       "      <th>original_title</th>\n",
       "      <th>overview</th>\n",
       "      <th>popularity</th>\n",
       "      <th>release_date</th>\n",
       "      <th>revenue</th>\n",
       "      <th>runtime</th>\n",
       "      <th>status</th>\n",
       "      <th>tagline</th>\n",
       "      <th>title</th>\n",
       "      <th>vote_average</th>\n",
       "      <th>vote_count</th>\n",
       "      <th>genre_id</th>\n",
       "      <th>year</th>\n",
       "      <th>genres</th>\n",
       "    </tr>\n",
       "  </thead>\n",
       "  <tbody>\n",
       "    <tr>\n",
       "      <th>0</th>\n",
       "      <td>0</td>\n",
       "      <td>237000000</td>\n",
       "      <td>http://www.avatarmovie.com/</td>\n",
       "      <td>19995</td>\n",
       "      <td>en</td>\n",
       "      <td>Avatar</td>\n",
       "      <td>In the 22nd century, a paraplegic Marine is di...</td>\n",
       "      <td>150.437577</td>\n",
       "      <td>2009-12-10</td>\n",
       "      <td>2787965087</td>\n",
       "      <td>162.0</td>\n",
       "      <td>Released</td>\n",
       "      <td>Enter the World of Pandora.</td>\n",
       "      <td>Avatar</td>\n",
       "      <td>7.2</td>\n",
       "      <td>11800</td>\n",
       "      <td>28.0</td>\n",
       "      <td>2009</td>\n",
       "      <td>Action</td>\n",
       "    </tr>\n",
       "  </tbody>\n",
       "</table>\n",
       "</div>"
      ],
      "text/plain": [
       "   Unnamed: 0     budget                     homepage     id  \\\n",
       "0           0  237000000  http://www.avatarmovie.com/  19995   \n",
       "\n",
       "  original_language original_title  \\\n",
       "0                en         Avatar   \n",
       "\n",
       "                                            overview  popularity release_date  \\\n",
       "0  In the 22nd century, a paraplegic Marine is di...  150.437577   2009-12-10   \n",
       "\n",
       "      revenue  runtime    status                      tagline   title  \\\n",
       "0  2787965087    162.0  Released  Enter the World of Pandora.  Avatar   \n",
       "\n",
       "   vote_average  vote_count  genre_id  year  genres  \n",
       "0           7.2       11800      28.0  2009  Action  "
      ]
     },
     "execution_count": 71,
     "metadata": {},
     "output_type": "execute_result"
    }
   ],
   "source": [
    "df_baza_filmow.head(1)"
   ]
  },
  {
   "cell_type": "markdown",
   "id": "fef2b420-f8f7-4144-a20d-2d5dc8c7b3ef",
   "metadata": {},
   "source": [
    "### Zad 4"
   ]
  },
  {
   "cell_type": "code",
   "execution_count": null,
   "id": "4e33ca7a-3bb8-4848-a971-a9e886d04d72",
   "metadata": {},
   "outputs": [],
   "source": [
    "#zad4: Jaki gatunek filmu z bazy pojawia się w niej najczęściej? Ile filmów tego gatunku znajduje się w bazie?"
   ]
  },
  {
   "cell_type": "code",
   "execution_count": 75,
   "id": "509f1314-3d96-406c-baee-527707a09f6a",
   "metadata": {},
   "outputs": [
    {
     "data": {
      "text/plain": [
       "genres\n",
       "Drama    1207\n",
       "Name: count, dtype: int64"
      ]
     },
     "execution_count": 75,
     "metadata": {},
     "output_type": "execute_result"
    }
   ],
   "source": [
    "count_genres=df_baza_filmow['genres'].value_counts() #posortuje od największej do najmniejszej liczby wystąpień\n",
    "count_genres.head(1)"
   ]
  },
  {
   "cell_type": "markdown",
   "id": "1ab359c8-c077-4389-8cfe-5ec1a7fc4d8a",
   "metadata": {},
   "source": [
    "### Zad 5"
   ]
  },
  {
   "cell_type": "code",
   "execution_count": null,
   "id": "3ad739cb-c037-47ef-a024-1b618c824e2b",
   "metadata": {},
   "outputs": [],
   "source": [
    "#zad5: Filmy, którego gatunku trwają średnio najdłużej (runtime)?"
   ]
  },
  {
   "cell_type": "code",
   "execution_count": 76,
   "id": "baf97b5e-db23-4589-a23c-7a673238e09b",
   "metadata": {},
   "outputs": [
    {
     "data": {
      "text/plain": [
       "genres\n",
       "History    133.96\n",
       "Name: runtime, dtype: float64"
      ]
     },
     "execution_count": 76,
     "metadata": {},
     "output_type": "execute_result"
    }
   ],
   "source": [
    "runtime_genres = df_baza_filmow.groupby('genres')['runtime'].mean().sort_values(ascending=False)\n",
    "runtime_genres.head(1)"
   ]
  },
  {
   "cell_type": "markdown",
   "id": "00acbaee-83c2-41ab-bf67-3ab534cc6d1b",
   "metadata": {},
   "source": [
    "### Zad 6"
   ]
  },
  {
   "cell_type": "code",
   "execution_count": null,
   "id": "20a5bd5a-f930-4262-918d-c06073e26534",
   "metadata": {},
   "outputs": [],
   "source": [
    "#zad6: Stwórz histogram czasu trwania filmów z gatunku, który cechuje się największym średnim czasem trwania."
   ]
  },
  {
   "cell_type": "code",
   "execution_count": 77,
   "id": "a925815b-79c3-4619-ab54-842a08a44fc5",
   "metadata": {},
   "outputs": [],
   "source": [
    "df_film_hist = df_baza_filmow[df_baza_filmow['genres'] == 'History']"
   ]
  },
  {
   "cell_type": "code",
   "execution_count": 85,
   "id": "ab022ed5-c733-4f4f-ac7e-23660708e308",
   "metadata": {},
   "outputs": [
    {
     "data": {
      "text/plain": [
       "<Axes: >"
      ]
     },
     "execution_count": 85,
     "metadata": {},
     "output_type": "execute_result"
    },
    {
     "data": {
      "image/png": "[encoded data removed]",
      "text/plain": [
       "<Figure size 640x480 with 1 Axes>"
      ]
     },
     "metadata": {},
     "output_type": "display_data"
    }
   ],
   "source": [
    "df_film_hist['runtime'].hist(bins=12)"
   ]
  }
 ],
 "metadata": {
  "kernelspec": {
   "display_name": "Python 3 (ipykernel)",
   "language": "python",
   "name": "python3"
  },
  "language_info": {
   "codemirror_mode": {
    "name": "ipython",
    "version": 3
   },
   "file_extension": ".py",
   "mimetype": "text/x-python",
   "name": "python",
   "nbconvert_exporter": "python",
   "pygments_lexer": "ipython3",
   "version": "3.12.6"
  }
 },
 "nbformat": 4,
 "nbformat_minor": 5
}
